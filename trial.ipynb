{
 "cells": [
  {
   "cell_type": "markdown",
   "metadata": {},
   "source": [
    "## Text To Speech"
   ]
  },
  {
   "cell_type": "code",
   "execution_count": 1,
   "metadata": {},
   "outputs": [],
   "source": [
    "import pyttsx3"
   ]
  },
  {
   "cell_type": "code",
   "execution_count": 2,
   "metadata": {},
   "outputs": [
    {
     "name": "stdout",
     "output_type": "stream",
     "text": [
      "Speech synthesized and saved to output.mp3\n"
     ]
    }
   ],
   "source": [
    "# Initialize the TTS engine\n",
    "engine = pyttsx3.init()\n",
    "\n",
    "# Set properties (optional)\n",
    "rate = engine.getProperty('rate')   # Speed of speech\n",
    "engine.setProperty('rate', rate - 50)\n",
    "\n",
    "volume = engine.getProperty('volume')  # Volume level (0.0 to 1.0)\n",
    "engine.setProperty('volume', volume + 0.25)\n",
    "\n",
    "# Choose a voice (optional)\n",
    "voices = engine.getProperty('voices')\n",
    "# Use the first available voice\n",
    "engine.setProperty('voice', voices[0].id)\n",
    "\n",
    "# Text to be converted to speech\n",
    "text = \"Hello, how are you today? This is a text-to-speech synthesis example.\"\n",
    "\n",
    "# Perform the TTS conversion\n",
    "engine.say(text)\n",
    "engine.runAndWait()\n",
    "\n",
    "# Save the output to a file (optional)\n",
    "engine.save_to_file(text, 'output.mp3')\n",
    "engine.runAndWait()\n",
    "\n",
    "print(\"Speech synthesized and saved to output.mp3\")"
   ]
  },
  {
   "cell_type": "markdown",
   "metadata": {},
   "source": [
    "## Speech To Text"
   ]
  },
  {
   "cell_type": "code",
   "execution_count": 6,
   "metadata": {},
   "outputs": [],
   "source": [
    "import tkinter as tk\n",
    "import speech_recognition as sr\n",
    "\n",
    "def speech_to_text():\n",
    "    recognizer = sr.Recognizer()\n",
    "    with sr.Microphone() as source:\n",
    "        print(\"Say something:\")\n",
    "        audio = recognizer.listen(source)\n",
    "        try:\n",
    "            text = recognizer.recognize_google(audio)\n",
    "            print(f\"Recognized Text: {text}\")\n",
    "            text_entry.delete(\"1.0\", tk.END)\n",
    "            text_entry.insert(tk.END, text)\n",
    "        except sr.UnknownValueError:\n",
    "            print(\"Could not understand audio\")\n",
    "        except sr.RequestError:\n",
    "            print(\"Could not request results\")\n",
    "\n",
    "root = tk.Tk()\n",
    "root.title(\"Speech to Text\")\n",
    "\n",
    "text_entry = tk.Text(root, height=10, width=50)\n",
    "text_entry.pack()\n",
    "\n",
    "tk.Button(root, text=\"Speech to Text\", command=speech_to_text).pack()\n",
    "\n",
    "root.mainloop()"
   ]
  },
  {
   "cell_type": "markdown",
   "metadata": {},
   "source": [
    "## Language Translation"
   ]
  },
  {
   "cell_type": "code",
   "execution_count": 3,
   "metadata": {},
   "outputs": [
    {
     "name": "stdout",
     "output_type": "stream",
     "text": [
      "Translated Text: hola, cómo estás\n"
     ]
    }
   ],
   "source": [
    "import tkinter as tk\n",
    "import speech_recognition as sr\n",
    "from googletrans import Translator\n",
    "\n",
    "def translate_text(target_language='es'):\n",
    "    translator = Translator()\n",
    "    text = text_entry.get(\"1.0\", tk.END).strip()\n",
    "    translation = translator.translate(text, dest=target_language)\n",
    "    translated_text = translation.text\n",
    "    text_entry.delete(\"1.0\", tk.END)\n",
    "    text_entry.insert(tk.END, translated_text)\n",
    "    print(f\"Translated Text: {translated_text}\")\n",
    "\n",
    "# Initialize the main window\n",
    "root = tk.Tk()\n",
    "root.title(\"Speech to Text and Translation\")\n",
    "\n",
    "# Create and pack the text entry widget\n",
    "text_entry = tk.Text(root, height=10, width=50)\n",
    "text_entry.pack()\n",
    "\n",
    "# Add buttons to trigger speech-to-text and translation\n",
    "# tk.Button(root, text=\"Speech to Text\", command=speech_to_text).pack()\n",
    "tk.Button(root, text=\"Translate to Spanish\", command=lambda: translate_text('es')).pack()\n",
    "\n",
    "# Start the GUI event loop\n",
    "root.mainloop()"
   ]
  },
  {
   "cell_type": "markdown",
   "metadata": {},
   "source": [
    "## Emotion Detection and Response"
   ]
  },
  {
   "cell_type": "code",
   "execution_count": 6,
   "metadata": {},
   "outputs": [
    {
     "name": "stderr",
     "output_type": "stream",
     "text": [
      "Exception in Tkinter callback\n",
      "Traceback (most recent call last):\n",
      "  File \"c:\\Users\\salla\\anaconda3\\envs\\tts\\Lib\\tkinter\\__init__.py\", line 1968, in __call__\n",
      "    return self.func(*args)\n",
      "           ^^^^^^^^^^^^^^^^\n",
      "  File \"C:\\Users\\salla\\AppData\\Local\\Temp\\ipykernel_31320\\27950578.py\", line 7, in detect_emotion\n",
      "    emotions = te.get_emotion(text)\n",
      "               ^^^^^^^^^^^^^^^^^^^^\n",
      "  File \"c:\\Users\\salla\\anaconda3\\envs\\tts\\Lib\\site-packages\\text2emotion\\__init__.py\", line 2716, in get_emotion\n",
      "    text = cleaning(input).split()\n",
      "           ^^^^^^^^^^^^^^^\n",
      "  File \"c:\\Users\\salla\\anaconda3\\envs\\tts\\Lib\\site-packages\\text2emotion\\__init__.py\", line 2700, in cleaning\n",
      "    text = emojis_extractor(text)\n",
      "           ^^^^^^^^^^^^^^^^^^^^^^\n",
      "  File \"c:\\Users\\salla\\anaconda3\\envs\\tts\\Lib\\site-packages\\text2emotion\\__init__.py\", line 2569, in emojis_extractor\n",
      "    a = \" \".join(c for c in text if c in emoji.UNICODE_EMOJI).split()\n",
      "        ^^^^^^^^^^^^^^^^^^^^^^^^^^^^^^^^^^^^^^^^^^^^^^^^^^^^^\n",
      "  File \"c:\\Users\\salla\\anaconda3\\envs\\tts\\Lib\\site-packages\\text2emotion\\__init__.py\", line 2569, in <genexpr>\n",
      "    a = \" \".join(c for c in text if c in emoji.UNICODE_EMOJI).split()\n",
      "                                         ^^^^^^^^^^^^^^^^^^^\n",
      "AttributeError: module 'emoji' has no attribute 'UNICODE_EMOJI'\n"
     ]
    }
   ],
   "source": [
    "import tkinter as tk\n",
    "import text2emotion as te\n",
    "\n",
    "def detect_emotion():\n",
    "    text = text_entry.get(\"1.0\", tk.END).strip()\n",
    "    if text:\n",
    "        emotions = te.get_emotion(text)\n",
    "        dominant_emotion = max(emotions, key=emotions.get)\n",
    "        print(f\"Detected Emotion: {dominant_emotion}\")\n",
    "        text_entry.delete(\"1.0\", tk.END)\n",
    "        text_entry.insert(tk.END, f\"{dominant_emotion.capitalize()} detected.\")\n",
    "    else:\n",
    "        print(\"No text entered.\")\n",
    "\n",
    "# Create the GUI\n",
    "root = tk.Tk()\n",
    "root.title(\"Emotion Detector\")\n",
    "\n",
    "# Text entry\n",
    "tk.Label(root, text=\"Enter text:\").pack()\n",
    "text_entry = tk.Text(root, height=10, width=50)\n",
    "text_entry.pack()\n",
    "\n",
    "# Button to detect emotion\n",
    "tk.Button(root, text=\"Detect Emotion\", command=detect_emotion).pack()\n",
    "\n",
    "root.mainloop()"
   ]
  },
  {
   "cell_type": "code",
   "execution_count": null,
   "metadata": {},
   "outputs": [],
   "source": []
  }
 ],
 "metadata": {
  "kernelspec": {
   "display_name": "tts",
   "language": "python",
   "name": "python3"
  },
  "language_info": {
   "codemirror_mode": {
    "name": "ipython",
    "version": 3
   },
   "file_extension": ".py",
   "mimetype": "text/x-python",
   "name": "python",
   "nbconvert_exporter": "python",
   "pygments_lexer": "ipython3",
   "version": "3.12.4"
  }
 },
 "nbformat": 4,
 "nbformat_minor": 2
}
